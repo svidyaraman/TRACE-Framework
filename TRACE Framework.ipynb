{
 "cells": [
  {
   "cell_type": "markdown",
   "id": "239facab-b462-4804-b149-ff9b84049421",
   "metadata": {},
   "source": [
    "## Imports"
   ]
  },
  {
   "cell_type": "code",
   "execution_count": null,
   "id": "2435eb76-cfbf-4350-8abd-37532ce6c03d",
   "metadata": {},
   "outputs": [],
   "source": [
    "import os\n",
    "import openai\n",
    "import json\n",
    "import tiktoken\n",
    "import numpy as np\n",
    "import matplotlib.pyplot as plt\n",
    "import pandas as pd\n",
    "pd.set_option('max_colwidth', 0)\n",
    "\n",
    "from pypdf import PdfReader\n",
    "os.environ[\"OPENAI_API_KEY\"] = \"OPEN_AI_KEY\"\n",
    "\n",
    "from openai import OpenAI\n",
    "client = OpenAI()\n",
    "encoding = tiktoken.get_encoding(\"cl100k_base\")"
   ]
  },
  {
   "cell_type": "code",
   "execution_count": null,
   "id": "535cdcc6-18af-402b-8b58-dc1af3f76d35",
   "metadata": {},
   "outputs": [],
   "source": [
    "def call_chatgpt4(prompt):\n",
    "    completion = client.chat.completions.create(\n",
    "      model=\"gpt-4-turbo\",\n",
    "      #model=\"gpt-4o\",\n",
    "      messages=[\n",
    "        {\"role\": \"system\", \"content\": \"I am an auditor. My job is to perform regulatory assessment and compliance evaluation.\"},\n",
    "        {\"role\": \"user\", \"content\": prompt}\n",
    "      ],\n",
    "      temperature = 0.0,\n",
    "      seed= 42,\n",
    "      top_p = 0.98,\n",
    "      max_tokens  = 4096,\n",
    "      response_format={ \"type\": \"json_object\" }\n",
    "    )\n",
    "    #output_token_count = len(encoding.encode(completion.choices[0].message.content))\n",
    "\n",
    "    response_json = json.loads(completion.choices[0].message.content)\n",
    "    \n",
    "    return response_json"
   ]
  },
  {
   "cell_type": "markdown",
   "id": "140517e9-692c-45ce-b107-ee8a8d551cad",
   "metadata": {},
   "source": [
    "## Document Path declaration\n",
    "There are two main types of documents\n",
    "1. Regulatory Document\n",
    "2. Policy Document(s)"
   ]
  },
  {
   "cell_type": "code",
   "execution_count": null,
   "id": "f1efd156-3dff-4cee-b6a8-818d544ddc7c",
   "metadata": {},
   "outputs": [],
   "source": [
    "regulatory_doc_filename = \"DPTM-Checklist.pdf\"\n",
    "policy_doc_filename = \"DBS Bank Privacy Policy.pdf\" \n",
    "grab_policy_document = \"Privacy Notice_GrabSG.pdf\"\n",
    "\n",
    "list_of_categories = [\"Governance and Transparency\",\"Management of Personal Data\", \"Care of Personal Data\", \"Individual’s Rights\"]"
   ]
  },
  {
   "cell_type": "code",
   "execution_count": null,
   "id": "081aa374-734e-440e-b140-62f09fc07f06",
   "metadata": {},
   "outputs": [],
   "source": [
    "# Extracting Text from Regulatory Document\n",
    "# importing required modules\n",
    "def text_from_pdf(filename):\n",
    "    # creating a pdf reader object\n",
    "    reader = PdfReader(filename)\n",
    "    text = \"\"\n",
    "    for pageno in range(len(reader.pages)):\n",
    "        page = reader.pages[pageno]\n",
    "        text += page.extract_text()\n",
    "    #len(regulatory_text)\n",
    "    return text"
   ]
  },
  {
   "cell_type": "code",
   "execution_count": null,
   "id": "ea0014bf-86b1-4d8b-bf9c-81c1d413012a",
   "metadata": {},
   "outputs": [],
   "source": [
    "regulatory_text = text_from_pdf(regulatory_doc_filename)\n",
    "policy_text = text_from_pdf(policy_doc_filename)\n",
    "grab_policy_text = text_from_pdf(grab_policy_document)"
   ]
  },
  {
   "cell_type": "markdown",
   "id": "66dc2250-6e60-4092-88ff-777572a4deaf",
   "metadata": {},
   "source": [
    "### TRACE-inspired single-step prompt"
   ]
  },
  {
   "cell_type": "code",
   "execution_count": null,
   "id": "5ff81aec-5e9d-4276-bfc4-b1890e69bf42",
   "metadata": {},
   "outputs": [],
   "source": [
    "def regulatory_mapping(regulatory_text, policy_text):\n",
    "    analysis_prompt = \"\"\"You are an auditor in charge of assessing data production regulations in Singapore. \n",
    "    Follow the detailed instructions below provide the regulatory-policy mapping and judgement:\n",
    "    1. Extract all data protection requirements from the Data Protection Trustmark checklist document that is provided between the <regdata> XML like tags.\n",
    "    <regdata>\n",
    "    {regulatory_text}\n",
    "    </regdata>\n",
    "    2. For each regulatory requirement item, identify and extract the exact clauses from the policy document provided that maps to the requirement. \n",
    "    The policy document is below between the <poldata> XML like tags below:\n",
    "    <poldata>\n",
    "    {policy_text}\n",
    "    </poldata>\n",
    "    3. Taking each regulatory requirement extracted from step 1 as the major premise and the corresponding policy documentation extracted from step 2 as the minor premise, \n",
    "    provide the following\n",
    "    - Judgement: Not Met, Partially Met and Completely Met\n",
    "    - Explanation of the Judgement: reasoning behind the judgement\n",
    "    - Type of Evidence: make an educated guess on the type of evidence required to check compliance of the policy. \n",
    "    Pick from Inspection, Observation, Inquiry, External Confirmation, Reperformance, Recalculation, Analytical Procesures and others.\n",
    "\n",
    "    Provide the output in the following strictly serializable JSON format with correct indent all over the output. \n",
    "     {{\n",
    "            \"Regrequirement_Policy_Judegment\": [\n",
    "            {{\n",
    "            \"Regulatory_Requirement_Description\" : The complete description of the checklist requirement as string,\n",
    "            \"Policy_Documentation\" : The exact clause or clauses from the policy documentation as a string. Make sure to get complete information from the policy text,\n",
    "            \"Judgement\" : as a string,\n",
    "            \"Judgement_Reasoning\" : as a string,\n",
    "            \"Type_of_Evidence\" : as a string\n",
    "            }},\n",
    "            ....\n",
    "            ]\n",
    "        }}\n",
    "        \"\"\"\n",
    "    return analysis_prompt.format(regulatory_text=regulatory_text,policy_text=policy_text)"
   ]
  },
  {
   "cell_type": "code",
   "execution_count": null,
   "id": "14b18710-16d9-4a8b-b5f1-4997774e91a9",
   "metadata": {},
   "outputs": [],
   "source": [
    "singlestepprompt = regulatory_mapping(regulatory_text,policy_text)\n",
    "print(singlestepprompt)\n",
    "print(len(singlestepprompt))\n",
    "response_json_chatgpt4 = call_chatgpt4(singlestepprompt)"
   ]
  },
  {
   "cell_type": "code",
   "execution_count": null,
   "id": "8c209063-ba8d-4da2-ad08-5034b291d1b5",
   "metadata": {},
   "outputs": [],
   "source": [
    "df = pd.DataFrame(response_json_chatgpt4[\"Regrequirement_Policy_Judegment\"])\n",
    "df.to_csv(\"SingleStep_DPTM_DBS_Trial2.csv\")"
   ]
  },
  {
   "cell_type": "code",
   "execution_count": null,
   "id": "4dc0c20b-9859-40f7-bbc5-12ef10f3c98e",
   "metadata": {},
   "outputs": [],
   "source": [
    "reg_text=\"\"\"Organisation shall have data protection policies and practices approved by\n",
    "management, setting out the organisation’s approach to managing\n",
    "personal data (include management of special categories of personal data\n",
    "such as personal data of a sensitive nature) for  Customers, Job applicants, visitors etc via External data protection\n",
    "notices\"\"\"\n",
    "singlestepprompt = regulatory_mapping(reg_text,policy_text)\n",
    "response_json_chatgpt4 = call_chatgpt4(singlestepprompt)\n",
    "pd.DataFrame(response_json_chatgpt4[\"Regrequirement_Policy_Judegment\"])"
   ]
  },
  {
   "cell_type": "code",
   "execution_count": null,
   "id": "0ea37f5f-9ff3-4a49-9743-9793400a6366",
   "metadata": {},
   "outputs": [],
   "source": [
    "df = pd.DataFrame(response_json_chatgpt4[\"Regrequirement_Policy_Judegment\"])\n",
    "df[\"Policy_Documentation\"][0]"
   ]
  },
  {
   "cell_type": "markdown",
   "id": "98e5619d-0061-4779-a3b4-7dad9d0d3b3e",
   "metadata": {},
   "source": [
    "### TRACE-inspired Workflow Prompting"
   ]
  },
  {
   "cell_type": "markdown",
   "id": "a4a4398c-b187-4f26-b977-3f2670caba66",
   "metadata": {},
   "source": [
    "### Step 1: Checklist requirement extraction from regulatory document"
   ]
  },
  {
   "cell_type": "code",
   "execution_count": null,
   "id": "b987e121-2a21-41f4-ae4c-1ed3690ab951",
   "metadata": {},
   "outputs": [],
   "source": [
    "def regulatory_requirement_extraction_forcategory(regulatory_text_fromfile, category_of_interest):\n",
    "    analysis_prompt = \"\"\"\n",
    "    You are an auditor in charge of assessing privacy regulations in Singapore. The  Data Production Trustmark (DPTM) checklist applicable for Singapore is provided between the <data> XML like tags.\n",
    "    Your objective is to extract all regulatory requirements from the document. \n",
    "    Follow the detailed instructions below to analyze regulatory document:\n",
    "    \n",
    "    1. Read through the entire regulatory document . \n",
    "    2. For each checklist item, identify the category of the checklist requirement, the subcategory and finally who it applies to and the corresponding policy document on which details needs to be found.  \n",
    "    3. Use only the information provided in the regulatory document\n",
    "    4. For each item on the checklist corresponding to ONLY the category \"{category_of_interest}\" extract the following information:\n",
    "        Category: The principle on which the checklist requiremnt is based. \n",
    "        Title: The subcategory to which the checklist requirement belongs.\n",
    "        Stakeholder: The stakeholder to whom the checklist requirement applies\n",
    "        Description: The exact checklist requirement from the \"checklist\" column of the given document. Do not summarise or combine the checklist description from multiple rows. If the same checklist is applicable to different stakeholders make sure to include each as a separate row in the table. If there are different items that need to be checked, list each requirement as a separate row.  \n",
    "        Mapped Policy Document: An educated guess the policy document that would have details for the checklist requirement. If not known, specify UNKNOWN\n",
    "        \n",
    "        The regulatory document is provided below:\n",
    "\n",
    "        <data>\n",
    "        {regulatory_text}\n",
    "        </data>\n",
    "\n",
    "        Provide the output in the following strictly in serializable JSON format with correct indent all over the output.    \n",
    "    \n",
    "        {{\n",
    "            \"Checklist_requirements\": [\n",
    "            {{\n",
    "            \"Category\" : The principle on which the checklist requiremnt is based as a string,\n",
    "            \"Title\": A short 5-6 word subcategory to which the checklist requirement belongs to as a string,\n",
    "            \"Stakeholder\" : The stakeholder to whom the checklist requirement applies to as a string,\n",
    "            \"Description\" : The complete description of the checklist requirement as string,\n",
    "            \"Mapped_Policy_Document\" : \"The policy document name (5-6 words) to check for this requirement\"\n",
    "            }},\n",
    "            ....\n",
    "            ]\n",
    "        }}\n",
    "   \n",
    "\n",
    "    \"\"\"\n",
    "    return analysis_prompt.format(regulatory_text=regulatory_text_fromfile,category_of_interest=category_of_interest)"
   ]
  },
  {
   "cell_type": "code",
   "execution_count": null,
   "id": "0de30735-942b-411a-84fd-3f58076cd272",
   "metadata": {},
   "outputs": [],
   "source": [
    "# Looping thru the list of categories\n",
    "for index,category in enumerate(list_of_categories):\n",
    "    prompt_withcategory = regulatory_requirement_extraction_forcategory(regulatory_text,category)\n",
    "    print(category)\n",
    "    print(len(prompt_withcategory))\n",
    "    response_json_chatgpt4 = call_chatgpt4(prompt_withcategory)\n",
    "    print(\"Num of requirements extracted\")\n",
    "    print(len(response_json_chatgpt4[\"Checklist_requirements\"]))\n",
    "    df = pd.DataFrame(response_json_chatgpt4[\"Checklist_requirements\"])\n",
    "    if index > 0:\n",
    "        df_checklist_req = pd.concat([df_checklist_req, df], ignore_index = True) \n",
    "    else:\n",
    "        df_checklist_req = df.copy()\n",
    "\n",
    "df_checklist_req.shape"
   ]
  },
  {
   "cell_type": "code",
   "execution_count": null,
   "id": "2976dfac-fed1-4b0a-9600-79176d530237",
   "metadata": {},
   "outputs": [],
   "source": [
    "#df_checklist_req.to_csv(\"Step1_Reg_Requirements.csv\")"
   ]
  },
  {
   "cell_type": "code",
   "execution_count": null,
   "id": "83c89279-bc1e-4bd3-904c-819f837371fd",
   "metadata": {},
   "outputs": [],
   "source": [
    "# Read from file\n",
    "df_checklist_req = pd.read_csv(\"Step1_Reg_Requirements.csv\", index_col=0)\n",
    "print(df_checklist_req.shape)\n",
    "df_checklist_req.head()"
   ]
  },
  {
   "cell_type": "code",
   "execution_count": null,
   "id": "79b7b733-53e3-466f-bfd5-d7372d86a6b1",
   "metadata": {},
   "outputs": [],
   "source": [
    "# Read from file\n",
    "df_checklist_req_full = pd.read_csv(\"DPTM_Checklist_Full.csv\", index_col=0)\n",
    "print(df_checklist_req_full.shape)\n",
    "df_checklist_req_full.head()"
   ]
  },
  {
   "cell_type": "code",
   "execution_count": null,
   "id": "b4a91b3d-98fc-4d31-a0a8-bbb77d35b09c",
   "metadata": {},
   "outputs": [],
   "source": [
    "df_checklist_req_full[\"Category\"].value_counts()"
   ]
  },
  {
   "cell_type": "markdown",
   "id": "43a48ac0-d51a-4f95-957d-0a2a82a0d31a",
   "metadata": {},
   "source": [
    "## Step 2: Policy Information extraction from policy document for regulatory checklist requirement"
   ]
  },
  {
   "cell_type": "markdown",
   "id": "535283aa-41be-4171-855d-82c5b8ec138a",
   "metadata": {},
   "source": [
    "We extract the list of regulations for which we want to looking for policy clauses"
   ]
  },
  {
   "cell_type": "code",
   "execution_count": null,
   "id": "7649d43f-26b8-4065-ad8b-aec88ffd71b6",
   "metadata": {},
   "outputs": [],
   "source": [
    "# df_external_policy = df_checklist_req[df_checklist_req[\"Mapped_Policy_Document\"].str.contains(\"External\")]\n",
    "# requirements_of_interest = df_external_policy[\"Description\"].tolist()"
   ]
  },
  {
   "cell_type": "code",
   "execution_count": null,
   "id": "46e4ba18-39d3-4fd0-8d2e-9e599c078afe",
   "metadata": {},
   "outputs": [],
   "source": [
    "df_rights_policy = df_checklist_req[df_checklist_req[\"Category\"]==\"Individual’s Rights\"]\n",
    "requirements_of_interest = df_rights_policy[\"Description\"].tolist()\n",
    "print(len(requirements_of_interest))\n",
    "print(requirements_of_interest)"
   ]
  },
  {
   "cell_type": "code",
   "execution_count": null,
   "id": "56f273b9-2c74-4348-a05c-07bbc0730a4b",
   "metadata": {},
   "outputs": [],
   "source": [
    "def policy_extraction_forregrequirement(policy_text_fromfile, requirements_of_interest):\n",
    "    mapping_prompt = \"\"\"\n",
    "    You are an auditor in charge of assessing privacy regulations in Singapore. \n",
    "    Your objective is to extract relevant clauses from the policy document corresponding to these regulatory requirements {requirements_of_interest}\n",
    "    The organization's policy is provided between the <data> XML like tags.\n",
    "    The policy document text is provided below:\n",
    "\n",
    "        <data>\n",
    "        {policy_text}\n",
    "        </data>\n",
    "\n",
    "    \n",
    "    Follow the detailed instructions below to map the policy to the corresponding regulatory requirement:    \n",
    "    1. Read through the entire policy document . \n",
    "    2. For each regulatory requirement item, identify and extract the exact clauses from the policy document provided that maps to the requirement.        \n",
    "\n",
    "        Provide the output in the following strictly serializable JSON format with correct indent all over the output.    \n",
    "    \n",
    "        {{\n",
    "            \"Regrequirement_Policy_Map\": [\n",
    "            {{\n",
    "            \"Regulatory_Requirement_Description\" : The complete description of the checklist requirement as string,\n",
    "            \"Policy_Documentation\" : The exact clause or clauses from the policy documentation as a string. Make sure to get complete information from the policy text,\n",
    "            \"Policy_Category\" : The section of the policy document under which the policy is described under as a string\n",
    "            }},\n",
    "            ....\n",
    "            ]\n",
    "        }}\n",
    "   \n",
    "\n",
    "    \"\"\"\n",
    "    return mapping_prompt.format(policy_text=policy_text_fromfile,requirements_of_interest=requirements_of_interest)"
   ]
  },
  {
   "cell_type": "code",
   "execution_count": null,
   "id": "27d98db8-519d-47ec-aa08-3ae7114abf6b",
   "metadata": {},
   "outputs": [],
   "source": [
    "# Looping thru the list of categories\n",
    "for index,category in enumerate(list_of_categories):\n",
    "    df_policy = df_checklist_req_full[df_checklist_req_full[\"Category\"]==category]\n",
    "    requirements_of_interest = df_policy[\"Description\"].tolist()\n",
    "    print(len(requirements_of_interest))\n",
    "    mappingprompt = policy_extraction_forregrequirement(policy_text,requirements_of_interest)\n",
    "    print(category)\n",
    "    print(len(mappingprompt))\n",
    "    response_json_chatgpt4 = call_chatgpt4(mappingprompt)\n",
    "    print(\"Num of policy clause extracted:\")\n",
    "    print(len(response_json_chatgpt4[\"Regrequirement_Policy_Map\"]))\n",
    "    df = pd.DataFrame(response_json_chatgpt4[\"Regrequirement_Policy_Map\"])\n",
    "    if index > 0:\n",
    "        df_reg_policy_map = pd.concat([df_reg_policy_map, df], ignore_index = True) \n",
    "    else:\n",
    "        df_reg_policy_map = df.copy()\n",
    "\n",
    "df_reg_policy_map.to_csv(\"Step2_Reg_Policy_Mapping_DBS_All.csv\")"
   ]
  },
  {
   "cell_type": "markdown",
   "id": "615c84e6-b629-422e-aacd-c53d1fc7ae55",
   "metadata": {},
   "source": [
    "### Step 3 : Regulatory Prompting"
   ]
  },
  {
   "cell_type": "code",
   "execution_count": null,
   "id": "8ecbc5ec-0be0-4e00-a7ce-9bd930080174",
   "metadata": {},
   "outputs": [],
   "source": [
    "def regrequirement_policy_alignment(reg_requirement,policy_documentation):\n",
    "    regulatory_prompt = \"\"\"\n",
    "    You are an auditor in charge of assessing privacy regulations in Singapore.\n",
    "    Your objective is to ensure that the policy documentation of an organization is in alignment with the regulatory requirements set by the regulators.\n",
    "\n",
    "    Taking the regulatory requirement below as the major premise \n",
    "    {reg_requirement}.\n",
    "    \n",
    "    and the corresponding policy documentation as the minor premise\n",
    "    {policy_documentation}.\n",
    "\n",
    "    Based on the above assertions, extract the following:\n",
    "    Judgement: Not Met, Partially Met and Completely Met\n",
    "    Explanation of the Judgement: reasoning behind the judgement\n",
    "    Type of Evidence: make an educated guess on the type of evidence required to check compliance of the policy. \n",
    "    Pick from Inspection, Observation, Inquiry, External Confirmation, Reperformance, Recalculation, Analytical Procesures and others.\n",
    "\n",
    "    Provide the output in the following strictly serializable JSON format with correct indent all over the output.    \n",
    "    \n",
    "        {{\n",
    "            \"Regrequirement_Policy_Judgement\": [\n",
    "            {{\n",
    "            \"Judgement\" : as a string,\n",
    "            \"Judgement_Reasoning\" : as a string,\n",
    "            \"Type_of_Evidence\" : as a string\n",
    "            }},\n",
    "            ....\n",
    "            ]\n",
    "        }}\n",
    "\n",
    "    \"\"\"\n",
    "    return regulatory_prompt.format(reg_requirement=reg_requirement,policy_documentation=policy_documentation)"
   ]
  },
  {
   "cell_type": "code",
   "execution_count": null,
   "id": "5b87d372-7b7a-4891-8411-fecb7b57b5a0",
   "metadata": {},
   "outputs": [],
   "source": [
    "#for index, row in df_reg_policy_map.iterrows():\n",
    "for index, row in df_reg_policy_map.iterrows():\n",
    "    #print(row[\"Name\"], row[\"Age\"])\n",
    "    reg_requirement = row[\"Regulatory_Requirement_Description\"]\n",
    "    policy_documentation = row[\"Policy_Documentation\"]\n",
    "    regulatoryprompt = regrequirement_policy_alignment(reg_requirement,policy_documentation)\n",
    "    #print(regulatoryprompt)\n",
    "    #print(index)\n",
    "    #print(len(regulatoryprompt))\n",
    "    response_json_chatgpt4 = call_chatgpt4(regulatoryprompt)\n",
    "    df = pd.DataFrame(response_json_chatgpt4[\"Regrequirement_Policy_Judgement\"])\n",
    "    df[\"Regulatory_Requirement_Description\"] = reg_requirement\n",
    "    df[\"Policy_Documentation\"] = policy_documentation\n",
    "    if index > 0:\n",
    "        df_reg_policy_judgement_map = pd.concat([df_reg_policy_judgement_map, df], ignore_index = True) \n",
    "    else:\n",
    "        df_reg_policy_judgement_map = df.copy()"
   ]
  },
  {
   "cell_type": "code",
   "execution_count": null,
   "id": "9f507c34-1c99-4f31-bbe9-39a6668e5913",
   "metadata": {},
   "outputs": [],
   "source": [
    "df_reg_policy_judgement_map[[\"Regulatory_Requirement_Description\",\"Policy_Documentation\",\"Judgement\", \"Judgement_Reasoning\", \"Type_of_Evidence\"]].to_csv(\"Step3_Reg_Policy_Mapping_with_Judgement_DBS.csv\")"
   ]
  },
  {
   "cell_type": "markdown",
   "id": "ed6b0cc4-1d8d-4378-9f8e-cf59ca57aae6",
   "metadata": {},
   "source": [
    "### Step 4: Regulatory Requirement to Evidence Mapping"
   ]
  },
  {
   "cell_type": "code",
   "execution_count": null,
   "id": "79468ac2-8be9-4628-a56e-6b11c5605e7e",
   "metadata": {},
   "outputs": [],
   "source": [
    "grab_recruitment_document = \"Grab Recruitment Privacy Notice_Grab Careers.pdf\"\n",
    "dbs_recruitment_document = \"DBS_Recruitment Policy.pdf\"\n",
    "\n",
    "grab_recruitment_evidence_text = text_from_pdf(grab_recruitment_document)\n",
    "db_recruitment_evidence_text = text_from_pdf(dbs_recruitment_document)"
   ]
  },
  {
   "cell_type": "code",
   "execution_count": null,
   "id": "e7ce15bc-307e-4437-b90b-1deaad2dc951",
   "metadata": {},
   "outputs": [],
   "source": [
    "jobapplicants_reg_requirements = df_reg_policy_map[\"Regulatory_Requirement_Description\"][df_reg_policy_map[\"Regulatory_Requirement_Description\"].apply(str.lower).str.contains(\"job\")].to_list()\n",
    "jobapplicants_reg_requirements"
   ]
  },
  {
   "cell_type": "code",
   "execution_count": null,
   "id": "cc6394e5-b191-40a9-b1d7-b818e6e86e81",
   "metadata": {},
   "outputs": [],
   "source": [
    "context_of_evidence_dbs = \"\"\"This evidence document is the privacy policy notice that appears as the first step \n",
    "when candidates click apply for a job posting via the careers webpage of DBS https://www.dbs.com/careers/\"\"\""
   ]
  },
  {
   "cell_type": "code",
   "execution_count": null,
   "id": "cd0f8c07-7ef7-4ed7-af96-76aa1104acef",
   "metadata": {},
   "outputs": [],
   "source": [
    "context_of_evidence_grab = \"\"\"This evidence document is Grab's recruitment privay policy that is available in \n",
    "Grab's careers webpage https://www.grab.careers/en/privacy-policy/\"\"\""
   ]
  },
  {
   "cell_type": "code",
   "execution_count": null,
   "id": "38eb79cb-0cf4-4bc8-8451-14365ae701bc",
   "metadata": {},
   "outputs": [],
   "source": [
    "def evidence_forregrequirement(evidence_text_fromfile, context_of_evidence, requirements_of_interest):\n",
    "    mapping_prompt = \"\"\"\n",
    "    You are an auditor in charge of assessing evidence for privacy regulations in Singapore. \n",
    "    Your objective is to check the relevance of the evidence text given and extract relevant clauses from the evidence corresponding to these regulatory requirements {requirements_of_interest}\n",
    "    The evidence text is provided between the <data> XML like tags below.\n",
    "        <data>\n",
    "        {evidence_text_fromfile}\n",
    "        </data>\n",
    "\n",
    "    {context_of_evidence}\n",
    "    \n",
    "    Follow the detailed instructions below to map the policy to the corresponding regulatory requirement:    \n",
    "    1. Read through the entire evidence document . \n",
    "    2. For each regulatory requirement item, identify and extract the exact clauses from the evidence document provided that maps to the requirement.        \n",
    "\n",
    "        Provide the output in the following strictly serializable JSON format with correct indent all over the output.    \n",
    "    \n",
    "        {{\n",
    "            \"Regrequirement_Evidence_Map\": [\n",
    "            {{\n",
    "            \"Regulatory_Requirement_Description\" : The complete description of the checklist requirement as string,\n",
    "            \"Evidence_Documentation\" : The exact clause or clauses from the evidence documentation as a string. Make sure to get complete information from the evidence text\n",
    "            }},\n",
    "            ....\n",
    "            ]\n",
    "        }}\n",
    "   \n",
    "\n",
    "    \"\"\"\n",
    "    return mapping_prompt.format(evidence_text_fromfile=evidence_text_fromfile,context_of_evidence=context_of_evidence,requirements_of_interest=requirements_of_interest)"
   ]
  },
  {
   "cell_type": "code",
   "execution_count": null,
   "id": "61563ff1-05d8-4999-8500-b174e23ad2b8",
   "metadata": {},
   "outputs": [],
   "source": [
    "df.to_csv(\"Step4__Reg_Evidence_Mapping_DBS_JobApplicants.csv\")"
   ]
  },
  {
   "cell_type": "code",
   "execution_count": null,
   "id": "36020b55-ba69-442d-b510-575ad950754b",
   "metadata": {},
   "outputs": [],
   "source": [
    "mapping_prompt = evidence_forregrequirement(db_recruitment_evidence_text,context_of_evidence_dbs,jobapplicants_reg_requirements)\n",
    "response_json_chatgpt4 = call_chatgpt4(mapping_prompt)\n",
    "#print(len(response_json_chatgpt4[\"Regrequirement_Evidence_Map\"]))\n",
    "df_reg_evidence_map_dbs = pd.DataFrame(response_json_chatgpt4[\"Regrequirement_Evidence_Map\"])\n",
    "df_reg_evidence_map_dbs.to_csv(\"Step4_Reg_Evidence_Mapping_DBS_JobApplicants.csv\")\n",
    "df_reg_evidence_map_dbs"
   ]
  },
  {
   "cell_type": "code",
   "execution_count": null,
   "id": "b364f0da-4e7b-4624-b40b-cb6638070c81",
   "metadata": {},
   "outputs": [],
   "source": [
    "mapping_prompt = evidence_forregrequirement(grab_recruitment_evidence_text,context_of_evidence_grab,jobapplicants_reg_requirements)\n",
    "response_json_chatgpt4 = call_chatgpt4(mapping_prompt)\n",
    "#print(len(response_json_chatgpt4[\"Regrequirement_Evidence_Map\"]))\n",
    "df_reg_evidence_map_grab = pd.DataFrame(response_json_chatgpt4[\"Regrequirement_Evidence_Map\"])\n",
    "df_reg_evidence_map_grab.to_csv(\"Step4_Reg_Evidence_Mapping_Grab_JobApplicants.csv\")\n",
    "df_reg_evidence_map_grab"
   ]
  },
  {
   "cell_type": "markdown",
   "id": "48b978d4-0fca-45d3-9357-19d3fe07e54e",
   "metadata": {},
   "source": [
    "### Step 5: Evidence Judgement"
   ]
  },
  {
   "cell_type": "code",
   "execution_count": null,
   "id": "6ffeef41-450d-4b85-90e0-89b663614ff4",
   "metadata": {},
   "outputs": [],
   "source": [
    "def regrequirement_evidence_alignment(reg_requirement,evidence_documentation):\n",
    "    regulatory_prompt = \"\"\"\n",
    "    You are an auditor in charge of assessing evidence for privacy regulations in Singapore. \n",
    "    Your objective is to ensure that the evidence documentation of an organization is in alignment with the regulatory requirements set by the regulators.\n",
    "\n",
    "    Taking the regulatory requirement below as the major premise \n",
    "    {reg_requirement}.\n",
    "    \n",
    "    and the corresponding evidence documentation as the minor premise\n",
    "    {evidence_documentation}.\n",
    "\n",
    "    Based on the above assertions, extract the following:\n",
    "    Judgement: Not Met, Partially Met and Completely Met\n",
    "    Explanation of the Judgement: reasoning behind the judgement\n",
    "\n",
    "    Provide the output in the following strictly serializable JSON format with correct indent all over the output.    \n",
    "    \n",
    "        {{\n",
    "            \"Regrequirement_Evidence_Judgement\": [\n",
    "            {{\n",
    "            \"Judgement\" : as a string,\n",
    "            \"Judgement_Reasoning\" : as a string\n",
    "            }},\n",
    "            ....\n",
    "            ]\n",
    "        }}\n",
    "\n",
    "    \"\"\"\n",
    "    return regulatory_prompt.format(reg_requirement=reg_requirement,evidence_documentation=evidence_documentation)"
   ]
  },
  {
   "cell_type": "code",
   "execution_count": null,
   "id": "ef1bca2f-7baf-461d-a029-09e645947211",
   "metadata": {},
   "outputs": [],
   "source": [
    "for index, row in df_reg_evidence_map_dbs.iterrows():\n",
    "    #print(row[\"Name\"], row[\"Age\"])\n",
    "    reg_requirement = row[\"Regulatory_Requirement_Description\"]\n",
    "    evidence_documentation = row[\"Evidence_Documentation\"]\n",
    "    regulatoryprompt = regrequirement_evidence_alignment(reg_requirement,evidence_documentation)\n",
    "    #print(regulatoryprompt)\n",
    "    print(index)\n",
    "    #print(len(regulatoryprompt))\n",
    "    response_json_chatgpt4 = call_chatgpt4(regulatoryprompt)\n",
    "    df = pd.DataFrame(response_json_chatgpt4[\"Regrequirement_Evidence_Judgement\"])\n",
    "    df[\"Regulatory_Requirement_Description\"] = reg_requirement\n",
    "    df[\"Evidence_Documentation\"] = evidence_documentation\n",
    "    if index > 0:\n",
    "        df_reg_evidence_judgement_map = pd.concat([df_reg_evidence_judgement_map, df], ignore_index = True) \n",
    "    else:\n",
    "        df_reg_evidence_judgement_map = df.copy()"
   ]
  },
  {
   "cell_type": "code",
   "execution_count": null,
   "id": "b117a392-221d-46a4-a254-c8e61caa8dfc",
   "metadata": {},
   "outputs": [],
   "source": [
    "df_reg_evidence_judgement_map.to_csv(\"Step5_Reg_Evidence_Mapping_with_Judgement_DBS_jobapplicants.csv\")"
   ]
  }
 ],
 "metadata": {
  "kernelspec": {
   "display_name": "Python 3 (ipykernel)",
   "language": "python",
   "name": "python3"
  },
  "language_info": {
   "codemirror_mode": {
    "name": "ipython",
    "version": 3
   },
   "file_extension": ".py",
   "mimetype": "text/x-python",
   "name": "python",
   "nbconvert_exporter": "python",
   "pygments_lexer": "ipython3",
   "version": "3.11.7"
  }
 },
 "nbformat": 4,
 "nbformat_minor": 5
}
